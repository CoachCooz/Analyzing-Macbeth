{
 "cells": [
  {
   "cell_type": "markdown",
   "metadata": {},
   "source": [
    "# Project: Analyzing Macbeth Using NLP\n"
   ]
  },
  {
   "cell_type": "markdown",
   "metadata": {},
   "source": [
    "### In this project, I will use a variety of NLP techniques to create some corpus statistics in the exploration of Shakespeare's Macbeth. "
   ]
  },
  {
   "cell_type": "markdown",
   "metadata": {},
   "source": [
    "The first step, of course, is obtaining the corpus of Macbeth. I will be getting it from the Project Gutenberg website."
   ]
  },
  {
   "cell_type": "code",
   "execution_count": 1,
   "metadata": {},
   "outputs": [
    {
     "name": "stdout",
     "output_type": "stream",
     "text": [
      "<class 'str'>\n",
      "120253\n",
      "﻿\r\n",
      "\r\n",
      "***The Project Gutenberg's Etext of Shakespeare's First Folio***\r\n",
      "********************The Tragedie of Macbeth*********************\r\n",
      "\r\n",
      "\r\n",
      "\r\n",
      "*******************************************************************\r\n",
      "THIS EBOOK WAS ONE OF PROJECT GUTENBERG'S EARLY FILES PRODUCED AT A\r\n",
      "TIME WHEN PROOFING METHODS AND TOOLS WERE NOT WELL DEVELOPED. THERE\r\n",
      "IS AN IMPROVED EDITION OF THIS TITLE WHICH MAY BE VIEWED AS EBOOK\r\n",
      "(#1533) at https://www.gutenberg.org/ebooks/1533\r\n",
      "*********************************\n"
     ]
    }
   ],
   "source": [
    "import requests\n",
    "macbeth = requests.get('http://www.gutenberg.org/cache/epub/2264/pg2264.txt').text\n",
    "\n",
    "print(type(macbeth))\n",
    "print(len(macbeth))\n",
    "print(macbeth[:500])"
   ]
  },
  {
   "cell_type": "markdown",
   "metadata": {},
   "source": [
    "Before performing the NLP work, I want to create a bar graph displaying the 25 most common words in Macbeth."
   ]
  },
  {
   "cell_type": "code",
   "execution_count": 2,
   "metadata": {},
   "outputs": [
    {
     "data": {
      "text/plain": [
       "Text(0.5, 1.0, 'Top 25 Words in Macbeth')"
      ]
     },
     "execution_count": 2,
     "metadata": {},
     "output_type": "execute_result"
    },
    {
     "data": {
      "image/png": "[encoded data removed]",
      "text/plain": [
       "<Figure size 936x936 with 1 Axes>"
      ]
     },
     "metadata": {
      "needs_background": "light"
     },
     "output_type": "display_data"
    }
   ],
   "source": [
    "import numpy as np\n",
    "import matplotlib.pyplot as plt\n",
    "%matplotlib inline\n",
    "\n",
    "words = macbeth.split()\n",
    "word_counts = {}\n",
    "for word in words:\n",
    "    word_counts[word] = word_counts.get(word, 0) + 1\n",
    "    \n",
    "counts = list(word_counts.items())\n",
    "top_25 = sorted(counts, key = lambda x: x[1], reverse=True)[:25]\n",
    "y = [item[1] for item in top_25]\n",
    "X = np.arange(len(y))\n",
    "plt.figure(figsize=(13,13))\n",
    "plt.bar(X , y)\n",
    "plt.xticks(X, [item[0] for item in top_25]);\n",
    "plt.ylabel('Number of Occurences')\n",
    "plt.xlabel('Word')\n",
    "plt.title('Top 25 Words in Macbeth')"
   ]
  },
  {
   "cell_type": "markdown",
   "metadata": {},
   "source": [
    "Obviously, there isn't too much value here because there are a lot of fluff words - 'the', 'and', 'of', etc. This displays why NLP is so useful and can be so meaningful!"
   ]
  },
  {
   "cell_type": "markdown",
   "metadata": {},
   "source": [
    "First, I will import all necessary packages and use a regex pattern to help remove word tokens that contain apostrophes."
   ]
  },
  {
   "cell_type": "code",
   "execution_count": 3,
   "metadata": {},
   "outputs": [],
   "source": [
    "import nltk\n",
    "from nltk.corpus import stopwords\n",
    "from nltk.collocations import *\n",
    "from nltk import FreqDist\n",
    "from nltk import word_tokenize\n",
    "import string\n",
    "import re"
   ]
  },
  {
   "cell_type": "code",
   "execution_count": 4,
   "metadata": {},
   "outputs": [],
   "source": [
    "pattern = \"([a-zA-Z]+(?:'[a-z]+)?)\"\n",
    "macbeth_tokens_raw = nltk.regexp_tokenize(macbeth, pattern)\n",
    "macbeth_tokens = [word.lower() for word in macbeth_tokens_raw]"
   ]
  },
  {
   "cell_type": "code",
   "execution_count": 5,
   "metadata": {
    "scrolled": true
   },
   "outputs": [
    {
     "data": {
      "text/plain": [
       "[('the', 764),\n",
       " ('and', 603),\n",
       " ('to', 460),\n",
       " ('of', 428),\n",
       " ('i', 344),\n",
       " ('a', 287),\n",
       " ('you', 269),\n",
       " ('that', 245),\n",
       " ('in', 225),\n",
       " ('is', 213),\n",
       " ('my', 207),\n",
       " ('it', 185),\n",
       " ('not', 182),\n",
       " ('with', 162),\n",
       " ('this', 159),\n",
       " ('be', 153),\n",
       " ('his', 147),\n",
       " ('for', 139),\n",
       " ('your', 139),\n",
       " ('macb', 137),\n",
       " ('our', 136),\n",
       " ('but', 126),\n",
       " ('haue', 122),\n",
       " ('me', 115),\n",
       " ('all', 112),\n",
       " ('he', 112),\n",
       " ('what', 110),\n",
       " ('as', 109),\n",
       " ('so', 108),\n",
       " ('we', 100),\n",
       " ('him', 92),\n",
       " ('are', 89),\n",
       " ('thou', 87),\n",
       " ('or', 85),\n",
       " ('which', 83),\n",
       " ('enter', 81),\n",
       " ('will', 80),\n",
       " ('they', 79),\n",
       " ('by', 74),\n",
       " ('no', 73),\n",
       " ('from', 71),\n",
       " ('on', 70),\n",
       " ('if', 68),\n",
       " ('shall', 68),\n",
       " ('macbeth', 67),\n",
       " ('then', 67),\n",
       " ('at', 66),\n",
       " ('their', 62),\n",
       " ('thee', 61),\n",
       " ('more', 58)]"
      ]
     },
     "execution_count": 5,
     "metadata": {},
     "output_type": "execute_result"
    }
   ],
   "source": [
    "macbeth_freqdist = FreqDist(macbeth_tokens)\n",
    "macbeth_freqdist.most_common(50)"
   ]
  },
  {
   "cell_type": "code",
   "execution_count": 6,
   "metadata": {},
   "outputs": [],
   "source": [
    "stopwords_list = stopwords.words('english')\n",
    "stopwords_list += list(string.punctuation)\n",
    "stopwords_list += ['0', '1', '2', '3', '4', '5', '6', '7', '8', '9', 'project', 'gutenberg', 'carnegie', 'mellon',\n",
    "                  'university', 'print', 'statement', 'small']\n",
    "\n",
    "macbeth_words_stopped = [word for word in macbeth_tokens if word not in stopwords_list]"
   ]
  },
  {
   "cell_type": "code",
   "execution_count": 7,
   "metadata": {
    "scrolled": true
   },
   "outputs": [
    {
     "data": {
      "text/plain": [
       "[('macb', 137),\n",
       " ('haue', 122),\n",
       " ('thou', 87),\n",
       " ('enter', 81),\n",
       " ('shall', 68),\n",
       " ('macbeth', 67),\n",
       " ('thee', 61),\n",
       " ('vpon', 58),\n",
       " ('macd', 58),\n",
       " ('yet', 57),\n",
       " ('come', 56),\n",
       " ('thy', 56),\n",
       " ('king', 55),\n",
       " ('vs', 55),\n",
       " ('time', 54),\n",
       " ('hath', 52),\n",
       " ('may', 51),\n",
       " ('good', 50),\n",
       " ('rosse', 49),\n",
       " ('would', 48),\n",
       " ('lady', 48),\n",
       " ('like', 45),\n",
       " ('one', 44),\n",
       " ('make', 39),\n",
       " ('say', 39),\n",
       " ('must', 38),\n",
       " ('doe', 38),\n",
       " ('lord', 38),\n",
       " ('see', 37),\n",
       " ('tis', 37),\n",
       " ('selfe', 36),\n",
       " ('etext', 35),\n",
       " ('done', 35),\n",
       " ('ile', 35),\n",
       " ('feare', 35),\n",
       " ('let', 35),\n",
       " ('well', 34),\n",
       " ('know', 34),\n",
       " ('man', 34),\n",
       " ('wife', 34),\n",
       " ('night', 34),\n",
       " ('banquo', 34),\n",
       " ('great', 32),\n",
       " ('exeunt', 30),\n",
       " ('speake', 29),\n",
       " ('sir', 29),\n",
       " ('lenox', 28),\n",
       " ('things', 27),\n",
       " ('mine', 26),\n",
       " ('vp', 26)]"
      ]
     },
     "execution_count": 7,
     "metadata": {},
     "output_type": "execute_result"
    }
   ],
   "source": [
    "macbeth_stopped_freqdist = FreqDist(macbeth_words_stopped)\n",
    "macbeth_stopped_freqdist.most_common(50)"
   ]
  },
  {
   "cell_type": "code",
   "execution_count": 8,
   "metadata": {},
   "outputs": [
    {
     "data": {
      "text/plain": [
       "3975"
      ]
     },
     "execution_count": 8,
     "metadata": {},
     "output_type": "execute_result"
    }
   ],
   "source": [
    "len(macbeth_stopped_freqdist)"
   ]
  },
  {
   "cell_type": "code",
   "execution_count": 9,
   "metadata": {
    "scrolled": true
   },
   "outputs": [
    {
     "name": "stdout",
     "output_type": "stream",
     "text": [
      "Word\t\t\tNormalized Frequency\n",
      "macb \t\t\t 0.012\n",
      "haue \t\t\t 0.01069\n",
      "thou \t\t\t 0.007623\n",
      "enter \t\t\t 0.007097\n",
      "shall \t\t\t 0.005958\n",
      "macbeth \t\t\t 0.00587\n",
      "thee \t\t\t 0.005345\n",
      "vpon \t\t\t 0.005082\n",
      "macd \t\t\t 0.005082\n",
      "yet \t\t\t 0.004994\n",
      "come \t\t\t 0.004907\n",
      "thy \t\t\t 0.004907\n",
      "king \t\t\t 0.004819\n",
      "vs \t\t\t 0.004819\n",
      "time \t\t\t 0.004731\n",
      "hath \t\t\t 0.004556\n",
      "may \t\t\t 0.004469\n",
      "good \t\t\t 0.004381\n",
      "rosse \t\t\t 0.004293\n",
      "would \t\t\t 0.004206\n",
      "lady \t\t\t 0.004206\n",
      "like \t\t\t 0.003943\n",
      "one \t\t\t 0.003855\n",
      "make \t\t\t 0.003417\n",
      "say \t\t\t 0.003417\n",
      "must \t\t\t 0.00333\n",
      "doe \t\t\t 0.00333\n",
      "lord \t\t\t 0.00333\n",
      "see \t\t\t 0.003242\n",
      "tis \t\t\t 0.003242\n",
      "selfe \t\t\t 0.003154\n",
      "etext \t\t\t 0.003067\n",
      "done \t\t\t 0.003067\n",
      "ile \t\t\t 0.003067\n",
      "feare \t\t\t 0.003067\n",
      "let \t\t\t 0.003067\n",
      "well \t\t\t 0.002979\n",
      "know \t\t\t 0.002979\n",
      "man \t\t\t 0.002979\n",
      "wife \t\t\t 0.002979\n",
      "night \t\t\t 0.002979\n",
      "banquo \t\t\t 0.002979\n",
      "great \t\t\t 0.002804\n",
      "exeunt \t\t\t 0.002629\n",
      "speake \t\t\t 0.002541\n",
      "sir \t\t\t 0.002541\n",
      "lenox \t\t\t 0.002453\n",
      "things \t\t\t 0.002366\n",
      "mine \t\t\t 0.002278\n",
      "vp \t\t\t 0.002278\n"
     ]
    }
   ],
   "source": [
    "total_word_count = sum(macbeth_stopped_freqdist.values())\n",
    "macbeth_top_50 = macbeth_stopped_freqdist.most_common(50)\n",
    "print('Word\\t\\t\\tNormalized Frequency')\n",
    "for word in macbeth_top_50:\n",
    "    normalized_frequency = word[1] / total_word_count\n",
    "    print('{} \\t\\t\\t {:.4}'.format(word[0], normalized_frequency))"
   ]
  },
  {
   "cell_type": "code",
   "execution_count": 10,
   "metadata": {},
   "outputs": [],
   "source": [
    "bigram_measures = nltk.collocations.BigramAssocMeasures()"
   ]
  },
  {
   "cell_type": "code",
   "execution_count": 11,
   "metadata": {},
   "outputs": [],
   "source": [
    "macbeth_finder = BigramCollocationFinder.from_words(macbeth_words_stopped)"
   ]
  },
  {
   "cell_type": "code",
   "execution_count": 12,
   "metadata": {},
   "outputs": [],
   "source": [
    "macbeth_scored = macbeth_finder.score_ngrams(bigram_measures.raw_freq)"
   ]
  },
  {
   "cell_type": "code",
   "execution_count": 13,
   "metadata": {
    "scrolled": true
   },
   "outputs": [
    {
     "data": {
      "text/plain": [
       "[(('enter', 'macbeth'), 0.0014019101025146764),\n",
       " (('exeunt', 'scena'), 0.001314290721107509),\n",
       " (('thane', 'cawdor'), 0.0011390519582931745),\n",
       " (('knock', 'knock'), 0.0008761938140716726),\n",
       " (('lord', 'macb'), 0.0007885744326645054),\n",
       " (('thou', 'art'), 0.0007885744326645054),\n",
       " (('good', 'lord'), 0.0007009550512573382),\n",
       " (('haue', 'done'), 0.0007009550512573382),\n",
       " (('macb', 'haue'), 0.0007009550512573382),\n",
       " (('enter', 'lady'), 0.0006133356698501709),\n",
       " (('first', 'folio'), 0.0006133356698501709),\n",
       " (('let', 'vs'), 0.0006133356698501709),\n",
       " (('tragedie', 'macbeth'), 0.0006133356698501709),\n",
       " (('macbeth', 'macb'), 0.0005257162884430036),\n",
       " (('public', 'domain'), 0.0005257162884430036),\n",
       " (('enter', 'malcolme'), 0.0004380969070358363),\n",
       " (('enter', 'three'), 0.0004380969070358363),\n",
       " (('euery', 'one'), 0.0004380969070358363),\n",
       " (('macb', 'ile'), 0.0004380969070358363),\n",
       " (('macb', 'thou'), 0.0004380969070358363),\n",
       " (('make', 'vs'), 0.0004380969070358363),\n",
       " (('mine', 'eyes'), 0.0004380969070358363),\n",
       " (('mine', 'owne'), 0.0004380969070358363),\n",
       " (('scena', 'secunda'), 0.0004380969070358363),\n",
       " (('ten', 'thousand'), 0.0004380969070358363),\n",
       " (('three', 'witches'), 0.0004380969070358363),\n",
       " (('thy', 'selfe'), 0.0004380969070358363),\n",
       " (('worthy', 'thane'), 0.0004380969070358363),\n",
       " (('would', 'haue'), 0.0004380969070358363),\n",
       " (('among', 'things'), 0.0003504775256286691),\n",
       " (('borne', 'woman'), 0.0003504775256286691),\n",
       " (('come', 'come'), 0.0003504775256286691),\n",
       " (('enter', 'banquo'), 0.0003504775256286691),\n",
       " (('enter', 'king'), 0.0003504775256286691),\n",
       " (('enter', 'macduffe'), 0.0003504775256286691),\n",
       " (('enter', 'rosse'), 0.0003504775256286691),\n",
       " (('etext', \"shakespeare's\"), 0.0003504775256286691),\n",
       " (('haile', 'king'), 0.0003504775256286691),\n",
       " (('haile', 'macbeth'), 0.0003504775256286691),\n",
       " (('hath', 'made'), 0.0003504775256286691),\n",
       " (('haue', 'seene'), 0.0003504775256286691),\n",
       " (('macb', 'bring'), 0.0003504775256286691),\n",
       " (('macbeth', 'macbeth'), 0.0003504775256286691),\n",
       " (('malcolme', 'donalbaine'), 0.0003504775256286691),\n",
       " (('may', 'see'), 0.0003504775256286691),\n",
       " (('old', 'man'), 0.0003504775256286691),\n",
       " (('rosse', 'angus'), 0.0003504775256286691),\n",
       " (('scena', 'prima'), 0.0003504775256286691),\n",
       " (('see', 'thee'), 0.0003504775256286691),\n",
       " ((\"shakespeare's\", 'first'), 0.0003504775256286691)]"
      ]
     },
     "execution_count": 13,
     "metadata": {},
     "output_type": "execute_result"
    }
   ],
   "source": [
    "macbeth_scored[:50]"
   ]
  },
  {
   "cell_type": "code",
   "execution_count": 14,
   "metadata": {},
   "outputs": [],
   "source": [
    "macbeth_pmi_finder = BigramCollocationFinder.from_words(macbeth_words_stopped)\n",
    "macbeth_pmi_finder.apply_freq_filter(5)"
   ]
  },
  {
   "cell_type": "code",
   "execution_count": 15,
   "metadata": {
    "scrolled": true
   },
   "outputs": [
    {
     "data": {
      "text/plain": [
       "[(('public', 'domain'), 10.893427944445829),\n",
       " (('ten', 'thousand'), 10.893427944445829),\n",
       " (('scena', 'secunda'), 9.018958826529687),\n",
       " (('first', 'folio'), 9.018958826529683),\n",
       " (('three', 'witches'), 8.992963617996743),\n",
       " (('knock', 'knock'), 8.800318540054345),\n",
       " (('thane', 'cawdor'), 8.14265655075459),\n",
       " (('exeunt', 'scena'), 8.018958826529687),\n",
       " (('mine', 'eyes'), 7.640447203275958),\n",
       " (('tragedie', 'macbeth'), 7.4123012547092095),\n",
       " (('worthy', 'thane'), 7.156462350279622),\n",
       " (('mine', 'owne'), 7.012415980662915),\n",
       " (('euery', 'one'), 6.3408869214170505),\n",
       " (('thou', 'art'), 6.0354469493182545),\n",
       " (('enter', 'malcolme'), 5.76002881902863),\n",
       " (('enter', 'three'), 5.653113615112119),\n",
       " (('good', 'lord'), 5.586606741948673),\n",
       " (('let', 'vs'), 5.37510263675496),\n",
       " (('enter', 'macbeth'), 5.072451251824585),\n",
       " (('thy', 'selfe'), 4.823038616554429),\n",
       " (('make', 'vs'), 4.733556607667438),\n",
       " (('haue', 'done'), 4.4183700906591294),\n",
       " (('enter', 'lady'), 4.360932863618805),\n",
       " (('lord', 'macb'), 4.302355850205185),\n",
       " (('macb', 'ile'), 3.5730034401488524),\n",
       " (('would', 'haue'), 3.2846187017703024),\n",
       " (('macbeth', 'macb'), 2.899231672469842),\n",
       " (('macb', 'haue'), 2.4496210246435695),\n",
       " (('macb', 'thou'), 2.2593429612450926)]"
      ]
     },
     "execution_count": 15,
     "metadata": {},
     "output_type": "execute_result"
    }
   ],
   "source": [
    "macbeth_pmi_scored = macbeth_pmi_finder.score_ngrams(bigram_measures.pmi)\n",
    "macbeth_pmi_scored"
   ]
  },
  {
   "cell_type": "code",
   "execution_count": null,
   "metadata": {},
   "outputs": [],
   "source": []
  }
 ],
 "metadata": {
  "kernelspec": {
   "display_name": "Python 3",
   "language": "python",
   "name": "python3"
  },
  "language_info": {
   "codemirror_mode": {
    "name": "ipython",
    "version": 3
   },
   "file_extension": ".py",
   "mimetype": "text/x-python",
   "name": "python",
   "nbconvert_exporter": "python",
   "pygments_lexer": "ipython3",
   "version": "3.7.4"
  }
 },
 "nbformat": 4,
 "nbformat_minor": 2
}
